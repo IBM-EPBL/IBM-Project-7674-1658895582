{
  "nbformat": 4,
  "nbformat_minor": 0,
  "metadata": {
    "colab": {
      "provenance": []
    },
    "kernelspec": {
      "name": "python3",
      "display_name": "Python 3"
    },
    "language_info": {
      "name": "python"
    }
  },
  "cells": [
    {
      "cell_type": "markdown",
      "source": [
        "# Dense_Layers"
      ],
      "metadata": {
        "id": "TIe43fvZo6GA"
      }
    },
    {
      "cell_type": "code",
      "execution_count": 23,
      "metadata": {
        "id": "vZl-Er91Z48T"
      },
      "outputs": [],
      "source": [
        "import keras\n",
        "from keras.preprocessing.image import ImageDataGenerator"
      ]
    },
    {
      "cell_type": "code",
      "source": [
        "#Define the parameters/arguments for ImageDataGenerator class\n",
        "train_datagen=ImageDataGenerator(rescale=1./255,shear_range=0.2,rotation_range=180,zoom_range=0.2,horizontal_flip=True)\n",
        "\n",
        "test_datagen=ImageDataGenerator(rescale=1./255)"
      ],
      "metadata": {
        "id": "akQDTzUEaKV8"
      },
      "execution_count": 24,
      "outputs": []
    },
    {
      "cell_type": "code",
      "source": [
        "#Applying ImageDataGenerator functionality to trainset\n",
        "x_train=train_datagen.flow_from_directory('/content/drive/MyDrive/ibm/Dataset/Dataset/test_set',target_size=(128,128),batch_size=32,class_mode='binary')"
      ],
      "metadata": {
        "colab": {
          "base_uri": "https://localhost:8080/"
        },
        "id": "jKs2YQpkaSPL",
        "outputId": "c4331c09-e4a8-40f5-a01e-9a3a3e7a4af3"
      },
      "execution_count": 25,
      "outputs": [
        {
          "output_type": "stream",
          "name": "stdout",
          "text": [
            "Found 320 images belonging to 2 classes.\n"
          ]
        }
      ]
    },
    {
      "cell_type": "code",
      "source": [
        "#Applying ImageDataGenerator functionality to testset\n",
        "x_test=test_datagen.flow_from_directory('/content/drive/MyDrive/ibm/Dataset/Dataset/train_set',target_size=(128,128),batch_size=32,class_mode='binary')"
      ],
      "metadata": {
        "colab": {
          "base_uri": "https://localhost:8080/"
        },
        "id": "fixDdw4Lan28",
        "outputId": "8a22f967-4933-40ba-f587-f27af0b00f63"
      },
      "execution_count": 26,
      "outputs": [
        {
          "output_type": "stream",
          "name": "stdout",
          "text": [
            "Found 436 images belonging to 2 classes.\n"
          ]
        }
      ]
    },
    {
      "cell_type": "code",
      "source": [
        "#import model building libraries\n",
        "\n",
        "#To define Linear initialisation import Sequential\n",
        "from keras.models import Sequential\n",
        "#To add layers import Dense\n",
        "from keras.layers import Dense\n",
        "#To create Convolution kernel import Convolution2D\n",
        "from keras.layers import Convolution2D\n",
        "#import Maxpooling layer\n",
        "from keras.layers import MaxPooling2D\n",
        "#import flatten layer\n",
        "from keras.layers import Flatten\n",
        "import warnings\n",
        "warnings.filterwarnings('ignore')"
      ],
      "metadata": {
        "id": "aAoS7RNLqMPw"
      },
      "execution_count": 27,
      "outputs": []
    },
    {
      "cell_type": "code",
      "source": [
        "#initializing the model\n",
        "model=Sequential()"
      ],
      "metadata": {
        "id": "cvwa8QrRqq4o"
      },
      "execution_count": 28,
      "outputs": []
    },
    {
      "cell_type": "code",
      "source": [
        "#add convolutional layer\n",
        "model.add(Convolution2D(32,(3,3),input_shape=(128,128,3),activation='relu'))\n",
        "#add maxpooling layer\n",
        "model.add(MaxPooling2D(pool_size=(2,2)))\n",
        "#add flatten layer \n",
        "model.add(Flatten())"
      ],
      "metadata": {
        "id": "bIxQxjrkqylY"
      },
      "execution_count": 29,
      "outputs": []
    },
    {
      "cell_type": "code",
      "source": [
        "#add hidden layer\n",
        "model.add(Dense(150,activation='relu'))\n",
        "#add output layer\n",
        "model.add(Dense(1,activation='sigmoid'))"
      ],
      "metadata": {
        "id": "RdctT6JqrUL9"
      },
      "execution_count": 32,
      "outputs": []
    }
  ]
}