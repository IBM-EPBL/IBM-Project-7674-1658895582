{
  "nbformat": 4,
  "nbformat_minor": 0,
  "metadata": {
    "colab": {
      "provenance": []
    },
    "kernelspec": {
      "name": "python3",
      "display_name": "Python 3"
    },
    "language_info": {
      "name": "python"
    }
  },
  "cells": [
    {
      "cell_type": "markdown",
      "source": [
        "# Training_model"
      ],
      "metadata": {
        "id": "GeVtCTHf84FH"
      }
    },
    {
      "cell_type": "code",
      "execution_count": 1,
      "metadata": {
        "id": "vZl-Er91Z48T"
      },
      "outputs": [],
      "source": [
        "import keras\n",
        "from keras.preprocessing.image import ImageDataGenerator"
      ]
    },
    {
      "cell_type": "code",
      "source": [
        "#Define the parameters/arguments for ImageDataGenerator class\n",
        "train_datagen=ImageDataGenerator(rescale=1./255,shear_range=0.2,rotation_range=180,zoom_range=0.2,horizontal_flip=True)\n",
        "\n",
        "test_datagen=ImageDataGenerator(rescale=1./255)"
      ],
      "metadata": {
        "id": "akQDTzUEaKV8"
      },
      "execution_count": 2,
      "outputs": []
    },
    {
      "cell_type": "code",
      "source": [
        "#Applying ImageDataGenerator functionality to trainset\n",
        "x_train=train_datagen.flow_from_directory('/content/drive/MyDrive/ibm/Dataset/Dataset/test_set',target_size=(128,128),batch_size=32,class_mode='binary')"
      ],
      "metadata": {
        "colab": {
          "base_uri": "https://localhost:8080/"
        },
        "id": "jKs2YQpkaSPL",
        "outputId": "93fe72d0-0dda-45f3-a208-74dc20df3be5"
      },
      "execution_count": 5,
      "outputs": [
        {
          "output_type": "stream",
          "name": "stdout",
          "text": [
            "Found 320 images belonging to 2 classes.\n"
          ]
        }
      ]
    },
    {
      "cell_type": "code",
      "source": [
        "#Applying ImageDataGenerator functionality to testset\n",
        "x_test=test_datagen.flow_from_directory('/content/drive/MyDrive/ibm/Dataset/Dataset/train_set',target_size=(128,128),batch_size=32,class_mode='binary')"
      ],
      "metadata": {
        "colab": {
          "base_uri": "https://localhost:8080/"
        },
        "id": "fixDdw4Lan28",
        "outputId": "56f864dc-71bd-4f9f-93e6-355b88524489"
      },
      "execution_count": 6,
      "outputs": [
        {
          "output_type": "stream",
          "name": "stdout",
          "text": [
            "Found 436 images belonging to 2 classes.\n"
          ]
        }
      ]
    },
    {
      "cell_type": "code",
      "source": [
        "#import model building libraries\n",
        "\n",
        "#To define Linear initialisation import Sequential\n",
        "from keras.models import Sequential\n",
        "#To add layers import Dense\n",
        "from keras.layers import Dense\n",
        "#To create Convolution kernel import Convolution2D\n",
        "from keras.layers import Convolution2D\n",
        "#import Maxpooling layer\n",
        "from keras.layers import MaxPooling2D\n",
        "#import flatten layer\n",
        "from keras.layers import Flatten\n",
        "import warnings\n",
        "warnings.filterwarnings('ignore')"
      ],
      "metadata": {
        "id": "aAoS7RNLqMPw"
      },
      "execution_count": 7,
      "outputs": []
    },
    {
      "cell_type": "code",
      "source": [
        "#initializing the model\n",
        "model=Sequential()"
      ],
      "metadata": {
        "id": "cvwa8QrRqq4o"
      },
      "execution_count": 8,
      "outputs": []
    },
    {
      "cell_type": "code",
      "source": [
        "#add convolutional layer\n",
        "model.add(Convolution2D(32,(3,3),input_shape=(128,128,3),activation='relu'))\n",
        "#add maxpooling layer\n",
        "model.add(MaxPooling2D(pool_size=(2,2)))\n",
        "#add flatten layer \n",
        "model.add(Flatten())"
      ],
      "metadata": {
        "id": "qsDmaG3J1UCd"
      },
      "execution_count": 9,
      "outputs": []
    },
    {
      "cell_type": "code",
      "source": [
        "#add hidden layer\n",
        "model.add(Dense(150,activation='relu'))\n",
        "#add output layer\n",
        "model.add(Dense(1,activation='sigmoid'))"
      ],
      "metadata": {
        "id": "GPuHeAkK1dic"
      },
      "execution_count": 10,
      "outputs": []
    },
    {
      "cell_type": "code",
      "source": [
        "#configure the learning process\n",
        "model.compile(loss='binary_crossentropy',optimizer=\"adam\",metrics=[\"accuracy\"])"
      ],
      "metadata": {
        "id": "2kSz-T3p1gTs"
      },
      "execution_count": 11,
      "outputs": []
    },
    {
      "cell_type": "code",
      "source": [
        "#Training the model\n",
        "model.fit_generator(x_train,steps_per_epoch=10,epochs=10,validation_data=x_test,validation_steps=4)"
      ],
      "metadata": {
        "colab": {
          "base_uri": "https://localhost:8080/"
        },
        "id": "BAaabG4A3hx8",
        "outputId": "cac16420-29de-4ced-88fd-e793d72bbb34"
      },
      "execution_count": 12,
      "outputs": [
        {
          "output_type": "stream",
          "name": "stdout",
          "text": [
            "Epoch 1/10\n",
            "10/10 [==============================] - 82s 9s/step - loss: 3.3641 - accuracy: 0.6656 - val_loss: 1.4686 - val_accuracy: 0.8047\n",
            "Epoch 2/10\n",
            "10/10 [==============================] - 42s 4s/step - loss: 0.5282 - accuracy: 0.8656 - val_loss: 0.8186 - val_accuracy: 0.7891\n",
            "Epoch 3/10\n",
            "10/10 [==============================] - 29s 3s/step - loss: 0.1807 - accuracy: 0.9219 - val_loss: 0.5242 - val_accuracy: 0.8594\n",
            "Epoch 4/10\n",
            "10/10 [==============================] - 26s 3s/step - loss: 0.2139 - accuracy: 0.9219 - val_loss: 1.0588 - val_accuracy: 0.7969\n",
            "Epoch 5/10\n",
            "10/10 [==============================] - 24s 2s/step - loss: 0.2295 - accuracy: 0.9125 - val_loss: 0.4624 - val_accuracy: 0.8516\n",
            "Epoch 6/10\n",
            "10/10 [==============================] - 21s 2s/step - loss: 0.2538 - accuracy: 0.9094 - val_loss: 0.7016 - val_accuracy: 0.7734\n",
            "Epoch 7/10\n",
            "10/10 [==============================] - 21s 2s/step - loss: 0.1788 - accuracy: 0.9281 - val_loss: 0.5440 - val_accuracy: 0.8047\n",
            "Epoch 8/10\n",
            "10/10 [==============================] - 21s 2s/step - loss: 0.1588 - accuracy: 0.9344 - val_loss: 0.7550 - val_accuracy: 0.7734\n",
            "Epoch 9/10\n",
            "10/10 [==============================] - 19s 2s/step - loss: 0.1655 - accuracy: 0.9250 - val_loss: 0.5055 - val_accuracy: 0.8438\n",
            "Epoch 10/10\n",
            "10/10 [==============================] - 18s 2s/step - loss: 0.1284 - accuracy: 0.9438 - val_loss: 0.3670 - val_accuracy: 0.8828\n"
          ]
        },
        {
          "output_type": "execute_result",
          "data": {
            "text/plain": [
              "<keras.callbacks.History at 0x7fdce448f650>"
            ]
          },
          "metadata": {},
          "execution_count": 12
        }
      ]
    }
  ]
}